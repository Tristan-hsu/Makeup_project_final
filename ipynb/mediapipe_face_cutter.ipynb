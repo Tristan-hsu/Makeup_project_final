{
 "cells": [
  {
   "cell_type": "code",
   "execution_count": 26,
   "metadata": {},
   "outputs": [
    {
     "name": "stderr",
     "output_type": "stream",
     "text": [
      "c:\\Users\\User\\anaconda3\\envs\\py_39_cv\\lib\\site-packages\\google\\protobuf\\symbol_database.py:55: UserWarning: SymbolDatabase.GetPrototype() is deprecated. Please use message_factory.GetMessageClass() instead. SymbolDatabase.GetPrototype() will be removed soon.\n",
      "  warnings.warn('SymbolDatabase.GetPrototype() is deprecated. Please '\n"
     ]
    }
   ],
   "source": [
    "import cv2\n",
    "import mediapipe as mp\n",
    "import numpy as np\n",
    "\n",
    "# Initialize MediaPipe Face Mesh\n",
    "mp_face_mesh = mp.solutions.face_mesh\n",
    "face_mesh = mp_face_mesh.FaceMesh(static_image_mode=True, max_num_faces=1, min_detection_confidence=0.5)\n",
    "\n",
    "# Initialize drawing utilities\n",
    "mp_drawing = mp.solutions.drawing_utils\n",
    "mp_drawing_styles = mp.solutions.drawing_styles\n",
    "\n",
    "# Load image using OpenCV\n",
    "image_path = 'C:/Users/User/Makeup_project/makeup_total_1/makeup111.jpeg' \n",
    "\n",
    "# Replace with your image path\n",
    "\n",
    "# Defien all original settings \n",
    "image = cv2.imread(image_path)\n",
    "height, width, _ = image.shape\n",
    "\n",
    "image = cv2.resize(image,(width*4,height*4))\n",
    "\n",
    "\n",
    "silhouette =  [\n",
    "    10,  338, 297, 332, 284, 251, 389, 356, 454, 323, 361, 288,\n",
    "    397, 365, 379, 378, 400, 377, 152, 148, 176, 149, 150, 136,\n",
    "    172, 58,  132, 93,  234, 127, 162, 21,  54,  103, 67,  109\n",
    "  ]\n",
    "\n",
    "\n",
    "rightEyeUpper0 =  [246, 161, 160, 159, 158, 157, 173]\n",
    "rightEyeLower0 = [33, 7, 163, 144, 145, 153, 154, 155, 133]\n",
    "rightEyeLower3 = [143, 111, 117, 118, 119, 120, 121, 128, 245]\n",
    "leftEyeUpper0 = [466, 388, 387, 386, 385, 384, 398]\n",
    "leftEyeLower0 = [263, 249, 390, 373, 374, 380, 381, 382, 362]\n",
    "leftEyeLower3 = [372, 340, 346, 347, 348, 349, 350, 357, 465]\n",
    "rightEyebrowLower = [ 124, 46, 53, 52, 65, 193]\n",
    "leftEyebrowLower = [265, 353, 276, 283, 282, 295, 285]\n",
    "rightEyebrowLower_position = []\n",
    "# Convert the BGR image to RGB\n",
    "rgb_image = cv2.cvtColor(image, cv2.COLOR_BGR2RGB)\n",
    "\n",
    "# Process the image to find facial landmarks\n",
    "results = face_mesh.process(rgb_image)\n",
    "\n",
    "# Check if landmarks were detected\n",
    "\n",
    "if results.multi_face_landmarks:\n",
    "    for face_landmarks in results.multi_face_landmarks:\n",
    "        # Draw facial landmarks on the image\n",
    "        mp_drawing.draw_landmarks(\n",
    "            image=image,\n",
    "            landmark_list=face_landmarks,\n",
    "            connections=mp_face_mesh.FACEMESH_TESSELATION,\n",
    "            landmark_drawing_spec=None,\n",
    "            connection_drawing_spec=mp_drawing_styles.get_default_face_mesh_tesselation_style())\n",
    "        # print(face_landmarks.landmark)\n",
    "        # Print the landmark coordinates\n",
    "        for id, lm in enumerate(face_landmarks.landmark):\n",
    "            x, y = int(lm.x * width*4), int(lm.y * height*4)\n",
    "            if id in rightEyebrowLower or id in leftEyebrowLower:\n",
    "                cv2.putText(image,f'{id}',(x,y),cv2.FONT_HERSHEY_SIMPLEX, .5, (0, 255, 0), 1)\n",
    "                cv2.circle(image,(x,y), 2, color=(0, 0, 255))\n",
    "\n",
    "        for id, lm in enumerate(face_landmarks.landmark):\n",
    "            x, y = int(lm.x * width*4), int(lm.y * height*4)\n",
    "            if id in rightEyebrowLower:\n",
    "                rightEyebrowLower_position.append([x,y])\n",
    "        rightEyebrowLower_position = np.array(rightEyebrowLower_position, dtype=np.int32).reshape((-1, 1, 2))\n",
    "        \n",
    "        cv2.fillPoly(image, [rightEyebrowLower_position],(0, 0, 0))\n",
    "        \n",
    "            \n",
    "\n",
    "\n",
    "        # print(f'Landmark {id}: ({x}, {y})')\n",
    "        right_eyebrow_pin = (int(face_landmarks.landmark[65].x * width*4), int(face_landmarks.landmark[65].y * height*4))\n",
    "        left_eyebrow_pin = (int(face_landmarks.landmark[295].x * width*4), int(face_landmarks.landmark[295].y * height*4))\n",
    "        mid_eyebrow = ((right_eyebrow_pin[0] + left_eyebrow_pin[0]) // 2, (right_eyebrow_pin[1] + left_eyebrow_pin[1]) // 2)\n",
    "                    \n",
    "        cv2.putText(image,f'mid_eyebrow',mid_eyebrow,cv2.FONT_HERSHEY_SIMPLEX, .5, (0, 255, 0), 1)\n",
    "        cv2.circle(image,mid_eyebrow, 4, color=(0, 0, 255))\n",
    "# Show the image with landmarks\n",
    "cv2.imshow('Face Mesh', image)\n",
    "cv2.waitKey(0)\n",
    "cv2.destroyAllWindows()\n",
    "\n",
    "# Release resources\n",
    "face_mesh.close()"
   ]
  },
  {
   "cell_type": "code",
   "execution_count": 17,
   "metadata": {},
   "outputs": [
    {
     "data": {
      "text/plain": [
       "array([[200, 200],\n",
       "       [300, 100],\n",
       "       [400, 200],\n",
       "       [400, 400],\n",
       "       [200, 400]])"
      ]
     },
     "execution_count": 17,
     "metadata": {},
     "output_type": "execute_result"
    }
   ],
   "source": [
    "points = np.array([[200, 200], [300, 100], [400, 200], [400, 400], [200, 400]])\n",
    "points"
   ]
  },
  {
   "cell_type": "code",
   "execution_count": null,
   "metadata": {},
   "outputs": [],
   "source": []
  }
 ],
 "metadata": {
  "kernelspec": {
   "display_name": "py_39_cv",
   "language": "python",
   "name": "python3"
  },
  "language_info": {
   "codemirror_mode": {
    "name": "ipython",
    "version": 3
   },
   "file_extension": ".py",
   "mimetype": "text/x-python",
   "name": "python",
   "nbconvert_exporter": "python",
   "pygments_lexer": "ipython3",
   "version": "3.9.19"
  }
 },
 "nbformat": 4,
 "nbformat_minor": 2
}
