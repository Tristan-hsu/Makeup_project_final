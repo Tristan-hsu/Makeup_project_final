{
 "cells": [
  {
   "cell_type": "code",
   "execution_count": 2,
   "metadata": {},
   "outputs": [],
   "source": [
    "import matplotlib.pyplot as plt\n",
    "import numpy as np\n",
    "import pandas as pd\n",
    "import tensorflow as tf\n",
    "\n",
    "\n",
    "from sklearn.metrics import accuracy_score, precision_score, recall_score\n",
    "from sklearn.model_selection import train_test_split\n",
    "from tensorflow.keras import layers, losses\n",
    "from tensorflow.keras.datasets import fashion_mnist\n",
    "from tensorflow.keras.models import Model"
   ]
  },
  {
   "cell_type": "code",
   "execution_count": 7,
   "metadata": {},
   "outputs": [
    {
     "name": "stdout",
     "output_type": "stream",
     "text": [
      "2.16.1\n"
     ]
    }
   ],
   "source": [
    "print(tf.__version__)"
   ]
  },
  {
   "cell_type": "markdown",
   "metadata": {},
   "source": [
    "# Autoencoder"
   ]
  },
  {
   "cell_type": "code",
   "execution_count": 3,
   "metadata": {},
   "outputs": [
    {
     "name": "stdout",
     "output_type": "stream",
     "text": [
      "x_train shape: (150, 128, 128)\n",
      "x_test shape: (151, 128, 128)\n",
      "y_train shape: (150, 128, 128)\n",
      "y_test shape: (151, 128, 128)\n"
     ]
    }
   ],
   "source": [
    "import os\n",
    "import numpy as np\n",
    "from sklearn.model_selection import train_test_split\n",
    "from PIL import Image\n",
    "\n",
    "def load_images_from_folder(folder):\n",
    "    images = []\n",
    "    for filename in os.listdir(folder):\n",
    "        img_path = os.path.join(folder, filename)\n",
    "        img = Image.open(img_path)\n",
    "        img = img.convert('L')  # Ensure the image is in gray format\n",
    "        img = img.resize((128, 128))  # Resize image to a fixed size\n",
    "        img_array = np.array(img)\n",
    "        images.append(img_array)\n",
    "    return np.array(images)\n",
    "\n",
    "\n",
    "# Paths to the image directories\n",
    "xpath = './allblackwhite/'\n",
    "ypath = './pymatting_outcome_rw'\n",
    "\n",
    "# Load images\n",
    "x_images = load_images_from_folder(xpath)\n",
    "y_images = load_images_from_folder(ypath)\n",
    "\n",
    "# Normalize the images\n",
    "x_images = x_images.astype('float32') / 255.0\n",
    "y_images = y_images.astype('float32') / 255.0\n",
    "\n",
    "# Shuffle and split the data into training and test sets\n",
    "x_train, x_test, y_train, y_test = train_test_split(x_images, y_images, test_size=0.5, random_state=42)\n",
    "\n",
    "# Verify the shapes of the datasets\n",
    "print(f\"x_train shape: {x_train.shape}\")\n",
    "print(f\"x_test shape: {x_test.shape}\")\n",
    "print(f\"y_train shape: {y_train.shape}\")\n",
    "print(f\"y_test shape: {y_test.shape}\")"
   ]
  },
  {
   "cell_type": "code",
   "execution_count": 4,
   "metadata": {},
   "outputs": [],
   "source": [
    "import time\n",
    "latent_dim = 256\n",
    "class Autoencoder(Model):\n",
    "    def __init__(self, latent_dim):\n",
    "        super(Autoencoder, self).__init__()\n",
    "        self.latent_dim = latent_dim   \n",
    "        self.encoder = tf.keras.Sequential([\n",
    "            layers.Flatten(),\n",
    "            layers.Dense(latent_dim, activation='relu')\n",
    "        ])\n",
    "        self.decoder = tf.keras.Sequential([\n",
    "            layers.Dense(128*128, activation='sigmoid'),\n",
    "            layers.Reshape((128, 128))\n",
    "        ])\n",
    "    \n",
    "    def call(self, x):\n",
    "        encoded = self.encoder(x)\n",
    "        decoded = self.decoder(encoded)\n",
    "        return decoded\n",
    "\n",
    "autoencoder = Autoencoder(latent_dim)"
   ]
  },
  {
   "cell_type": "code",
   "execution_count": 8,
   "metadata": {},
   "outputs": [
    {
     "name": "stdout",
     "output_type": "stream",
     "text": [
      "Requirement already satisfied: pyyaml in c:\\users\\user\\anaconda3\\envs\\dl\\lib\\site-packages (6.0.1)\n",
      "Requirement already satisfied: h5py in c:\\users\\user\\anaconda3\\envs\\dl\\lib\\site-packages (3.11.0)\n",
      "Requirement already satisfied: numpy>=1.17.3 in c:\\users\\user\\anaconda3\\envs\\dl\\lib\\site-packages (from h5py) (1.23.5)\n"
     ]
    }
   ],
   "source": [
    "!pip install pyyaml h5py"
   ]
  },
  {
   "cell_type": "code",
   "execution_count": 5,
   "metadata": {},
   "outputs": [
    {
     "name": "stdout",
     "output_type": "stream",
     "text": [
      "Epoch 1/100\n",
      "5/5 [==============================] - 1s 78ms/step - loss: 0.1838 - val_loss: 0.0345\n",
      "Epoch 2/100\n",
      "5/5 [==============================] - 0s 60ms/step - loss: 0.0246 - val_loss: 0.0215\n",
      "Epoch 3/100\n",
      "5/5 [==============================] - 0s 59ms/step - loss: 0.0206 - val_loss: 0.0213\n",
      "Epoch 4/100\n",
      "5/5 [==============================] - 0s 59ms/step - loss: 0.0203 - val_loss: 0.0212\n",
      "Epoch 5/100\n",
      "5/5 [==============================] - 0s 58ms/step - loss: 0.0200 - val_loss: 0.0206\n",
      "Epoch 6/100\n",
      "5/5 [==============================] - 0s 58ms/step - loss: 0.0195 - val_loss: 0.0201\n",
      "Epoch 7/100\n",
      "5/5 [==============================] - 0s 58ms/step - loss: 0.0190 - val_loss: 0.0195\n",
      "Epoch 8/100\n",
      "5/5 [==============================] - 0s 58ms/step - loss: 0.0182 - val_loss: 0.0187\n",
      "Epoch 9/100\n",
      "5/5 [==============================] - 0s 58ms/step - loss: 0.0172 - val_loss: 0.0179\n",
      "Epoch 10/100\n",
      "5/5 [==============================] - 0s 61ms/step - loss: 0.0167 - val_loss: 0.0176\n",
      "Epoch 11/100\n",
      "5/5 [==============================] - 0s 57ms/step - loss: 0.0162 - val_loss: 0.0170\n",
      "Epoch 12/100\n",
      "5/5 [==============================] - 0s 58ms/step - loss: 0.0157 - val_loss: 0.0169\n",
      "Epoch 13/100\n",
      "5/5 [==============================] - 0s 58ms/step - loss: 0.0153 - val_loss: 0.0164\n",
      "Epoch 14/100\n",
      "5/5 [==============================] - 0s 58ms/step - loss: 0.0151 - val_loss: 0.0166\n",
      "Epoch 15/100\n",
      "5/5 [==============================] - 0s 59ms/step - loss: 0.0150 - val_loss: 0.0161\n",
      "Epoch 16/100\n",
      "5/5 [==============================] - 0s 58ms/step - loss: 0.0147 - val_loss: 0.0160\n",
      "Epoch 17/100\n",
      "5/5 [==============================] - 0s 58ms/step - loss: 0.0144 - val_loss: 0.0159\n",
      "Epoch 18/100\n",
      "5/5 [==============================] - 0s 59ms/step - loss: 0.0141 - val_loss: 0.0157\n",
      "Epoch 19/100\n",
      "5/5 [==============================] - 0s 59ms/step - loss: 0.0139 - val_loss: 0.0156\n",
      "Epoch 20/100\n",
      "5/5 [==============================] - 0s 58ms/step - loss: 0.0138 - val_loss: 0.0154\n",
      "Epoch 21/100\n",
      "5/5 [==============================] - 0s 58ms/step - loss: 0.0136 - val_loss: 0.0153\n",
      "Epoch 22/100\n",
      "5/5 [==============================] - 0s 59ms/step - loss: 0.0132 - val_loss: 0.0151\n",
      "Epoch 23/100\n",
      "5/5 [==============================] - 0s 58ms/step - loss: 0.0130 - val_loss: 0.0151\n",
      "Epoch 24/100\n",
      "5/5 [==============================] - 0s 59ms/step - loss: 0.0129 - val_loss: 0.0148\n",
      "Epoch 25/100\n",
      "5/5 [==============================] - 0s 58ms/step - loss: 0.0127 - val_loss: 0.0148\n",
      "Epoch 26/100\n",
      "5/5 [==============================] - 0s 59ms/step - loss: 0.0126 - val_loss: 0.0146\n",
      "Epoch 27/100\n",
      "5/5 [==============================] - 0s 58ms/step - loss: 0.0124 - val_loss: 0.0146\n",
      "Epoch 28/100\n",
      "5/5 [==============================] - 0s 58ms/step - loss: 0.0122 - val_loss: 0.0145\n",
      "Epoch 29/100\n",
      "5/5 [==============================] - 0s 59ms/step - loss: 0.0121 - val_loss: 0.0143\n",
      "Epoch 30/100\n",
      "5/5 [==============================] - 0s 58ms/step - loss: 0.0120 - val_loss: 0.0143\n",
      "Epoch 31/100\n",
      "5/5 [==============================] - 0s 59ms/step - loss: 0.0119 - val_loss: 0.0141\n",
      "Epoch 32/100\n",
      "5/5 [==============================] - 0s 59ms/step - loss: 0.0116 - val_loss: 0.0141\n",
      "Epoch 33/100\n",
      "5/5 [==============================] - 0s 59ms/step - loss: 0.0115 - val_loss: 0.0140\n",
      "Epoch 34/100\n",
      "5/5 [==============================] - 0s 58ms/step - loss: 0.0114 - val_loss: 0.0139\n",
      "Epoch 35/100\n",
      "5/5 [==============================] - 0s 60ms/step - loss: 0.0113 - val_loss: 0.0138\n",
      "Epoch 36/100\n",
      "5/5 [==============================] - 0s 59ms/step - loss: 0.0112 - val_loss: 0.0138\n",
      "Epoch 37/100\n",
      "5/5 [==============================] - 0s 60ms/step - loss: 0.0111 - val_loss: 0.0138\n",
      "Epoch 38/100\n",
      "5/5 [==============================] - 0s 59ms/step - loss: 0.0110 - val_loss: 0.0137\n",
      "Epoch 39/100\n",
      "5/5 [==============================] - 0s 58ms/step - loss: 0.0109 - val_loss: 0.0136\n",
      "Epoch 40/100\n",
      "5/5 [==============================] - 0s 58ms/step - loss: 0.0108 - val_loss: 0.0136\n",
      "Epoch 41/100\n",
      "5/5 [==============================] - 0s 58ms/step - loss: 0.0106 - val_loss: 0.0135\n",
      "Epoch 42/100\n",
      "5/5 [==============================] - 0s 58ms/step - loss: 0.0105 - val_loss: 0.0135\n",
      "Epoch 43/100\n",
      "5/5 [==============================] - 0s 61ms/step - loss: 0.0105 - val_loss: 0.0134\n",
      "Epoch 44/100\n",
      "5/5 [==============================] - 0s 58ms/step - loss: 0.0103 - val_loss: 0.0134\n",
      "Epoch 45/100\n",
      "5/5 [==============================] - 0s 58ms/step - loss: 0.0102 - val_loss: 0.0133\n",
      "Epoch 46/100\n",
      "5/5 [==============================] - 0s 58ms/step - loss: 0.0101 - val_loss: 0.0133\n",
      "Epoch 47/100\n",
      "5/5 [==============================] - 0s 58ms/step - loss: 0.0100 - val_loss: 0.0132\n",
      "Epoch 48/100\n",
      "5/5 [==============================] - 0s 59ms/step - loss: 0.0100 - val_loss: 0.0132\n",
      "Epoch 49/100\n",
      "5/5 [==============================] - 0s 59ms/step - loss: 0.0099 - val_loss: 0.0132\n",
      "Epoch 50/100\n",
      "5/5 [==============================] - 0s 59ms/step - loss: 0.0098 - val_loss: 0.0132\n",
      "Epoch 51/100\n",
      "5/5 [==============================] - 0s 59ms/step - loss: 0.0097 - val_loss: 0.0131\n",
      "Epoch 52/100\n",
      "5/5 [==============================] - 0s 60ms/step - loss: 0.0097 - val_loss: 0.0131\n",
      "Epoch 53/100\n",
      "5/5 [==============================] - 0s 59ms/step - loss: 0.0096 - val_loss: 0.0131\n",
      "Epoch 54/100\n",
      "5/5 [==============================] - 0s 61ms/step - loss: 0.0095 - val_loss: 0.0130\n",
      "Epoch 55/100\n",
      "5/5 [==============================] - 0s 59ms/step - loss: 0.0095 - val_loss: 0.0131\n",
      "Epoch 56/100\n",
      "5/5 [==============================] - 0s 60ms/step - loss: 0.0094 - val_loss: 0.0130\n",
      "Epoch 57/100\n",
      "5/5 [==============================] - 0s 59ms/step - loss: 0.0094 - val_loss: 0.0130\n",
      "Epoch 58/100\n",
      "5/5 [==============================] - 0s 59ms/step - loss: 0.0093 - val_loss: 0.0129\n",
      "Epoch 59/100\n",
      "5/5 [==============================] - 0s 60ms/step - loss: 0.0092 - val_loss: 0.0129\n",
      "Epoch 60/100\n",
      "5/5 [==============================] - 0s 60ms/step - loss: 0.0091 - val_loss: 0.0129\n",
      "Epoch 61/100\n",
      "5/5 [==============================] - 0s 60ms/step - loss: 0.0091 - val_loss: 0.0128\n",
      "Epoch 62/100\n",
      "5/5 [==============================] - 0s 57ms/step - loss: 0.0090 - val_loss: 0.0128\n",
      "Epoch 63/100\n",
      "5/5 [==============================] - 0s 58ms/step - loss: 0.0089 - val_loss: 0.0128\n",
      "Epoch 64/100\n",
      "5/5 [==============================] - 0s 58ms/step - loss: 0.0089 - val_loss: 0.0128\n",
      "Epoch 65/100\n",
      "5/5 [==============================] - 0s 59ms/step - loss: 0.0088 - val_loss: 0.0127\n",
      "Epoch 66/100\n",
      "5/5 [==============================] - 0s 58ms/step - loss: 0.0087 - val_loss: 0.0127\n",
      "Epoch 67/100\n",
      "5/5 [==============================] - 0s 58ms/step - loss: 0.0087 - val_loss: 0.0127\n",
      "Epoch 68/100\n",
      "5/5 [==============================] - 0s 58ms/step - loss: 0.0086 - val_loss: 0.0127\n",
      "Epoch 69/100\n",
      "5/5 [==============================] - 0s 59ms/step - loss: 0.0086 - val_loss: 0.0126\n",
      "Epoch 70/100\n",
      "5/5 [==============================] - 0s 58ms/step - loss: 0.0085 - val_loss: 0.0126\n",
      "Epoch 71/100\n",
      "5/5 [==============================] - 0s 58ms/step - loss: 0.0084 - val_loss: 0.0126\n",
      "Epoch 72/100\n",
      "5/5 [==============================] - 0s 60ms/step - loss: 0.0084 - val_loss: 0.0126\n",
      "Epoch 73/100\n",
      "5/5 [==============================] - 0s 58ms/step - loss: 0.0084 - val_loss: 0.0126\n",
      "Epoch 74/100\n",
      "5/5 [==============================] - 0s 58ms/step - loss: 0.0083 - val_loss: 0.0125\n",
      "Epoch 75/100\n",
      "5/5 [==============================] - 0s 59ms/step - loss: 0.0082 - val_loss: 0.0125\n",
      "Epoch 76/100\n",
      "5/5 [==============================] - 0s 59ms/step - loss: 0.0082 - val_loss: 0.0125\n",
      "Epoch 77/100\n",
      "5/5 [==============================] - 0s 59ms/step - loss: 0.0081 - val_loss: 0.0125\n",
      "Epoch 78/100\n",
      "5/5 [==============================] - 0s 58ms/step - loss: 0.0081 - val_loss: 0.0125\n",
      "Epoch 79/100\n",
      "5/5 [==============================] - 0s 58ms/step - loss: 0.0080 - val_loss: 0.0124\n",
      "Epoch 80/100\n",
      "5/5 [==============================] - 0s 58ms/step - loss: 0.0080 - val_loss: 0.0124\n",
      "Epoch 81/100\n",
      "5/5 [==============================] - 0s 58ms/step - loss: 0.0079 - val_loss: 0.0124\n",
      "Epoch 82/100\n",
      "5/5 [==============================] - 0s 60ms/step - loss: 0.0079 - val_loss: 0.0124\n",
      "Epoch 83/100\n",
      "5/5 [==============================] - 0s 57ms/step - loss: 0.0078 - val_loss: 0.0123\n",
      "Epoch 84/100\n",
      "5/5 [==============================] - 0s 58ms/step - loss: 0.0078 - val_loss: 0.0123\n",
      "Epoch 85/100\n",
      "5/5 [==============================] - 0s 58ms/step - loss: 0.0077 - val_loss: 0.0123\n",
      "Epoch 86/100\n",
      "5/5 [==============================] - 0s 58ms/step - loss: 0.0076 - val_loss: 0.0123\n",
      "Epoch 87/100\n",
      "5/5 [==============================] - 0s 58ms/step - loss: 0.0076 - val_loss: 0.0123\n",
      "Epoch 88/100\n",
      "5/5 [==============================] - 0s 58ms/step - loss: 0.0076 - val_loss: 0.0123\n",
      "Epoch 89/100\n",
      "5/5 [==============================] - 0s 58ms/step - loss: 0.0075 - val_loss: 0.0122\n",
      "Epoch 90/100\n",
      "5/5 [==============================] - 0s 57ms/step - loss: 0.0075 - val_loss: 0.0122\n",
      "Epoch 91/100\n",
      "5/5 [==============================] - 0s 57ms/step - loss: 0.0074 - val_loss: 0.0123\n",
      "Epoch 92/100\n",
      "5/5 [==============================] - 0s 58ms/step - loss: 0.0074 - val_loss: 0.0122\n",
      "Epoch 93/100\n",
      "5/5 [==============================] - 0s 59ms/step - loss: 0.0074 - val_loss: 0.0122\n",
      "Epoch 94/100\n",
      "5/5 [==============================] - 0s 57ms/step - loss: 0.0073 - val_loss: 0.0122\n",
      "Epoch 95/100\n",
      "5/5 [==============================] - 0s 58ms/step - loss: 0.0073 - val_loss: 0.0122\n",
      "Epoch 96/100\n",
      "5/5 [==============================] - 0s 58ms/step - loss: 0.0072 - val_loss: 0.0121\n",
      "Epoch 97/100\n",
      "5/5 [==============================] - 0s 58ms/step - loss: 0.0072 - val_loss: 0.0122\n",
      "Epoch 98/100\n",
      "5/5 [==============================] - 0s 58ms/step - loss: 0.0072 - val_loss: 0.0121\n",
      "Epoch 99/100\n",
      "5/5 [==============================] - 0s 60ms/step - loss: 0.0071 - val_loss: 0.0121\n",
      "Epoch 100/100\n",
      "5/5 [==============================] - 0s 58ms/step - loss: 0.0071 - val_loss: 0.0121\n"
     ]
    },
    {
     "data": {
      "text/plain": [
       "<keras.callbacks.History at 0x18f902f5ca0>"
      ]
     },
     "execution_count": 5,
     "metadata": {},
     "output_type": "execute_result"
    }
   ],
   "source": [
    "autoencoder.compile(optimizer='adam', loss=losses.MeanSquaredError())\n",
    "autoencoder.fit(x_train, y_train,\n",
    "                epochs=100,\n",
    "                shuffle=True,\n",
    "                validation_data=(x_test, y_test))\n",
    "\n"
   ]
  },
  {
   "cell_type": "code",
   "execution_count": 6,
   "metadata": {},
   "outputs": [
    {
     "name": "stderr",
     "output_type": "stream",
     "text": [
      "WARNING:absl:Found untraced functions such as _update_step_xla while saving (showing 1 of 1). These functions will not be directly callable after loading.\n"
     ]
    },
    {
     "name": "stdout",
     "output_type": "stream",
     "text": [
      "INFO:tensorflow:Assets written to: saved_model\\assets\n"
     ]
    },
    {
     "name": "stderr",
     "output_type": "stream",
     "text": [
      "INFO:tensorflow:Assets written to: saved_model\\assets\n"
     ]
    }
   ],
   "source": [
    "from tensorflow import keras\n",
    "autoencoder.save('saved_model', save_format='tf')\n",
    "new_model = keras.models.load_model('saved_model')"
   ]
  },
  {
   "cell_type": "code",
   "execution_count": 7,
   "metadata": {},
   "outputs": [],
   "source": [
    "\n",
    "\n",
    "encoded_imgs = new_model.encoder(x_test).numpy()\n",
    "decoded_imgs = new_model.decoder(encoded_imgs).numpy()\n"
   ]
  },
  {
   "cell_type": "code",
   "execution_count": 8,
   "metadata": {},
   "outputs": [
    {
     "data": {
      "image/png": "[encoded data removed]",
      "text/plain": [
       "<Figure size 2000x400 with 30 Axes>"
      ]
     },
     "metadata": {},
     "output_type": "display_data"
    }
   ],
   "source": [
    "n = 10\n",
    "plt.figure(figsize=(20, 4))\n",
    "for i in range(n):\n",
    "    # display original\n",
    "    ax = plt.subplot(3, n, i + 1)\n",
    "    plt.imshow(x_test[i])\n",
    "    plt.title(\"original\")\n",
    "    plt.gray()\n",
    "    ax.get_xaxis().set_visible(False)\n",
    "    ax.get_yaxis().set_visible(False)\n",
    "    \n",
    "    # display reconstruction\n",
    "    ax = plt.subplot(3, n, i + 1 + n)\n",
    "    plt.imshow(decoded_imgs[i])\n",
    "    plt.title(\"reconstructed\")\n",
    "    plt.gray()\n",
    "    ax.get_xaxis().set_visible(False)\n",
    "    ax.get_yaxis().set_visible(False)\n",
    "\n",
    "    ax = plt.subplot(3, n, i + 1 + 2*n)\n",
    "    plt.imshow(y_test[i])\n",
    "    plt.title(\"ytest\")\n",
    "    plt.gray()\n",
    "    ax.get_xaxis().set_visible(False)\n",
    "    ax.get_yaxis().set_visible(False)\n",
    "plt.show()"
   ]
  },
  {
   "cell_type": "markdown",
   "metadata": {},
   "source": [
    "# Autoencoder with Augmentation"
   ]
  },
  {
   "cell_type": "code",
   "execution_count": null,
   "metadata": {},
   "outputs": [],
   "source": [
    "import os\n",
    "import numpy as np\n",
    "from sklearn.model_selection import train_test_split\n",
    "from PIL import Image\n",
    "\n",
    "def load_images_from_folder(folder):\n",
    "    images = []\n",
    "    for filename in os.listdir(folder):\n",
    "        img_path = os.path.join(folder, filename)\n",
    "        img = Image.open(img_path)\n",
    "        img = img.convert('L')  # Ensure the image is in gray format\n",
    "        img = img.resize((128, 128))  # Resize image to a fixed size\n",
    "        img_array = np.array(img)\n",
    "        images.append(img_array)\n",
    "    return np.array(images)\n",
    "\n",
    "def augment_with_flip(images):\n",
    "    augmented_images = []\n",
    "    for img in images:\n",
    "        augmented_images.append(img)  # Original image\n",
    "        augmented_images.append(np.fliplr(img))  # Horizontally flipped\n",
    "    return np.array(augmented_images)\n",
    "\n",
    "# Paths to the image directories\n",
    "xpath = './allblackwhite/'\n",
    "ypath = './pymatting_outcome_rw'\n",
    "\n",
    "# Load images\n",
    "x_images = load_images_from_folder(xpath)\n",
    "y_images = load_images_from_folder(ypath)\n",
    "x_images = augment_with_flip(x_images)\n",
    "y_images = augment_with_flip(y_images)\n",
    "\n",
    "# Normalize the images\n",
    "x_images = x_images.astype('float32') / 255.0\n",
    "y_images = y_images.astype('float32') / 255.0\n",
    "\n",
    "# Shuffle and split the data into training and test sets\n",
    "x_train, x_test, y_train, y_test = train_test_split(x_images, y_images, test_size=0.5, random_state=42)\n",
    "\n",
    "# Verify the shapes of the datasets\n",
    "print(f\"x_train shape: {x_train.shape}\")\n",
    "print(f\"x_test shape: {x_test.shape}\")\n",
    "print(f\"y_train shape: {y_train.shape}\")\n",
    "print(f\"y_test shape: {y_test.shape}\")"
   ]
  },
  {
   "cell_type": "code",
   "execution_count": null,
   "metadata": {},
   "outputs": [],
   "source": [
    "import time\n",
    "latent_dim = 256\n",
    "class Autoencoder(Model):\n",
    "    def __init__(self, latent_dim):\n",
    "        super(Autoencoder, self).__init__()\n",
    "        self.latent_dim = latent_dim   \n",
    "        self.encoder = tf.keras.Sequential([\n",
    "            layers.Flatten(),\n",
    "            layers.Dense(latent_dim, activation='relu')\n",
    "        ])\n",
    "        self.decoder = tf.keras.Sequential([\n",
    "            layers.Dense(128*128, activation='sigmoid'),\n",
    "            layers.Reshape((128, 128))\n",
    "        ])\n",
    "    \n",
    "    def call(self, x):\n",
    "        encoded = self.encoder(x)\n",
    "        decoded = self.decoder(encoded)\n",
    "        return decoded\n",
    "\n",
    "autoencoder = Autoencoder(latent_dim)"
   ]
  },
  {
   "cell_type": "code",
   "execution_count": null,
   "metadata": {},
   "outputs": [],
   "source": [
    "autoencoder.compile(optimizer='adam', loss=losses.MeanSquaredError())\n",
    "autoencoder.fit(x_train, y_train,\n",
    "                epochs=100,\n",
    "                shuffle=True,\n",
    "                validation_data=(x_test, y_test))\n"
   ]
  },
  {
   "cell_type": "code",
   "execution_count": null,
   "metadata": {},
   "outputs": [],
   "source": [
    "encoded_imgs = autoencoder.encoder(x_test).numpy()\n",
    "decoded_imgs = autoencoder.decoder(encoded_imgs).numpy()"
   ]
  },
  {
   "cell_type": "code",
   "execution_count": null,
   "metadata": {},
   "outputs": [],
   "source": [
    "n = 10\n",
    "plt.figure(figsize=(20, 4))\n",
    "for i in range(n):\n",
    "    # display original\n",
    "    ax = plt.subplot(3, n, i + 1)\n",
    "    plt.imshow(x_test[i])\n",
    "    plt.title(\"original\")\n",
    "    plt.gray()\n",
    "    ax.get_xaxis().set_visible(False)\n",
    "    ax.get_yaxis().set_visible(False)\n",
    "    \n",
    "    # display reconstruction\n",
    "    ax = plt.subplot(3, n, i + 1 + n)\n",
    "    plt.imshow(decoded_imgs[i])\n",
    "    plt.title(\"reconstructed\")\n",
    "    plt.gray()\n",
    "    ax.get_xaxis().set_visible(False)\n",
    "    ax.get_yaxis().set_visible(False)\n",
    "\n",
    "    ax = plt.subplot(3, n, i + 1 + 2*n)\n",
    "    plt.imshow(y_test[i])\n",
    "    plt.title(\"ytest\")\n",
    "    plt.gray()\n",
    "    ax.get_xaxis().set_visible(False)\n",
    "    ax.get_yaxis().set_visible(False)\n",
    "plt.show()"
   ]
  }
 ],
 "metadata": {
  "kernelspec": {
   "display_name": "DL",
   "language": "python",
   "name": "python3"
  },
  "language_info": {
   "codemirror_mode": {
    "name": "ipython",
    "version": 3
   },
   "file_extension": ".py",
   "mimetype": "text/x-python",
   "name": "python",
   "nbconvert_exporter": "python",
   "pygments_lexer": "ipython3",
   "version": "3.9.19"
  }
 },
 "nbformat": 4,
 "nbformat_minor": 2
}
