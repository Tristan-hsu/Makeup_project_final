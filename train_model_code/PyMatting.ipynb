{
 "cells": [
  {
   "cell_type": "code",
   "execution_count": 3,
   "metadata": {},
   "outputs": [],
   "source": [
    "import cv2\n",
    "import mediapipe as mp\n",
    "import numpy as np\n",
    "import os\n",
    "from pymatting import *"
   ]
  },
  {
   "cell_type": "code",
   "execution_count": 1,
   "metadata": {},
   "outputs": [
    {
     "name": "stdout",
     "output_type": "stream",
     "text": [
      "Requirement already satisfied: PyMatting in c:\\users\\user\\anaconda3\\envs\\py_39_cv\\lib\\site-packages (1.1.12)\n",
      "Requirement already satisfied: numpy>=1.16.0 in c:\\users\\user\\anaconda3\\envs\\py_39_cv\\lib\\site-packages (from PyMatting) (1.26.4)\n",
      "Requirement already satisfied: pillow>=5.2.0 in c:\\users\\user\\anaconda3\\envs\\py_39_cv\\lib\\site-packages (from PyMatting) (10.3.0)\n",
      "Requirement already satisfied: numba!=0.49.0 in c:\\users\\user\\anaconda3\\envs\\py_39_cv\\lib\\site-packages (from PyMatting) (0.59.1)\n",
      "Requirement already satisfied: scipy>=1.1.0 in c:\\users\\user\\anaconda3\\envs\\py_39_cv\\lib\\site-packages (from PyMatting) (1.13.0)\n",
      "Requirement already satisfied: llvmlite<0.43,>=0.42.0dev0 in c:\\users\\user\\anaconda3\\envs\\py_39_cv\\lib\\site-packages (from numba!=0.49.0->PyMatting) (0.42.0)\n"
     ]
    }
   ],
   "source": [
    "!pip install PyMatting"
   ]
  },
  {
   "cell_type": "markdown",
   "metadata": {},
   "source": [
    "# Test of All Algorithm"
   ]
  },
  {
   "cell_type": "code",
   "execution_count": 5,
   "metadata": {},
   "outputs": [],
   "source": [
    "image = load_image(\"./256img_lst/001.jpg\", \"RGB\")\n",
    "trimap = load_image(\"./trimap/001.jpg\", \"GRAY\")\n",
    "alpha = estimate_alpha_cf(\n",
    "    image,\n",
    "    trimap,\n",
    "    laplacian_kwargs={\"epsilon\": 1e-6},\n",
    "    cg_kwargs={\"maxiter\":2000})\n",
    "\n",
    "save_image(\"123.png\", alpha)"
   ]
  },
  {
   "cell_type": "code",
   "execution_count": 7,
   "metadata": {},
   "outputs": [],
   "source": [
    "from pymatting import *\n",
    "image = load_image(\"./256img_lst/001.jpg\", \"RGB\")\n",
    "trimap = load_image(\"./trimap/001.jpg\", \"GRAY\")\n",
    "alpha = estimate_alpha_knn(\n",
    "    image,\n",
    "    trimap,\n",
    "    laplacian_kwargs={\"n_neighbors\": [15, 10]},\n",
    "    cg_kwargs={\"maxiter\":2000})\n",
    "save_image(\"knn.png\", alpha)\n"
   ]
  },
  {
   "cell_type": "code",
   "execution_count": 9,
   "metadata": {},
   "outputs": [],
   "source": [
    "image = load_image(\"./256img_lst/001.jpg\", \"RGB\")\n",
    "trimap = load_image(\"./trimap/001.jpg\", \"GRAY\")\n",
    "alpha = estimate_alpha_lbdm(\n",
    "    image,\n",
    "    trimap,\n",
    "    preconditioner=None,\n",
    "    laplacian_kwargs={},\n",
    "    cg_kwargs={})\n",
    "\n",
    "save_image(\"lbdm.png\", alpha)"
   ]
  },
  {
   "cell_type": "code",
   "execution_count": 10,
   "metadata": {},
   "outputs": [],
   "source": [
    "image = load_image(\"./256img_lst/001.jpg\", \"RGB\")\n",
    "trimap = load_image(\"./trimap/001.jpg\", \"GRAY\")\n",
    "\n",
    "alpha = estimate_alpha_lkm(\n",
    "    image,\n",
    "    trimap,\n",
    "    laplacian_kwargs={},\n",
    "    cg_kwargs={})\n",
    "save_image(\"lkm.png\", alpha)"
   ]
  },
  {
   "cell_type": "code",
   "execution_count": null,
   "metadata": {},
   "outputs": [],
   "source": [
    "image = load_image(\"./256img_lst/001.jpg\", \"RGB\")\n",
    "trimap = load_image(\"./trimap/001.jpg\", \"GRAY\")\n",
    "\n",
    "alpha = estimate_alpha_sm(\n",
    "    image,\n",
    "    trimap,\n",
    "    return_foreground_background=False,\n",
    "    trimap_expansion_radius=10,\n",
    "    trimap_expansion_threshold=0.02,\n",
    "    sample_gathering_angles=4,\n",
    "    sample_gathering_weights=(3.0, 2.0, 1.0, 4.0),\n",
    "    sample_gathering_Np_radius=1,\n",
    "    sample_refinement_radius=5,\n",
    "    local_smoothing_radius1=5,\n",
    "    local_smoothing_radius2=5,\n",
    "    local_smoothing_radius3=5,\n",
    "    local_smoothing_sigma_sq1=None,\n",
    "    local_smoothing_sigma_sq2=0.1,\n",
    "    local_smoothing_sigma_sq3=None)\n",
    "save_image(\"sm.png\", alpha)"
   ]
  },
  {
   "cell_type": "markdown",
   "metadata": {},
   "source": [
    "# Choose to use rw algorithm\n"
   ]
  },
  {
   "cell_type": "code",
   "execution_count": 5,
   "metadata": {},
   "outputs": [
    {
     "name": "stdout",
     "output_type": "stream",
     "text": [
      "./trimap/038.jpg\n",
      "./trimap/213.jpg\n",
      "./trimap/232.jpg\n"
     ]
    }
   ],
   "source": [
    "imagepath = './256img_lst/'\n",
    "trimappath = './trimap'\n",
    "pymtrwpath = './pymatting_outcome_rw'\n",
    "imagelist = os.listdir(imagepath)\n",
    "trimaplist = os.listdir(trimappath)\n",
    "for filename in imagelist:\n",
    "    try:\n",
    "        image = load_image(imagepath +\"/\"+filename, \"RGB\")\n",
    "        trimap = load_image(trimappath+\"/\"+filename, \"GRAY\")\n",
    "\n",
    "        alpha = estimate_alpha_rw(\n",
    "            image,\n",
    "            trimap,\n",
    "            laplacian_kwargs={},\n",
    "            cg_kwargs={})\n",
    "        save_image(pymtrwpath +\"/\"+filename , alpha)\n",
    "    except:\n",
    "        print(trimappath+\"/\"+filename)"
   ]
  },
  {
   "cell_type": "code",
   "execution_count": null,
   "metadata": {},
   "outputs": [],
   "source": []
  },
  {
   "cell_type": "code",
   "execution_count": null,
   "metadata": {},
   "outputs": [],
   "source": []
  }
 ],
 "metadata": {
  "kernelspec": {
   "display_name": "py_39_cv",
   "language": "python",
   "name": "python3"
  },
  "language_info": {
   "codemirror_mode": {
    "name": "ipython",
    "version": 3
   },
   "file_extension": ".py",
   "mimetype": "text/x-python",
   "name": "python",
   "nbconvert_exporter": "python",
   "pygments_lexer": "ipython3",
   "version": "3.9.19"
  }
 },
 "nbformat": 4,
 "nbformat_minor": 2
}
